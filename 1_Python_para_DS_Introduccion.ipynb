{
  "nbformat": 4,
  "nbformat_minor": 0,
  "metadata": {
    "colab": {
      "provenance": [],
      "authorship_tag": "ABX9TyPBgGx+494HyX7nciYh+HdW",
      "include_colab_link": true
    },
    "kernelspec": {
      "name": "python3",
      "display_name": "Python 3"
    },
    "language_info": {
      "name": "python"
    }
  },
  "cells": [
    {
      "cell_type": "markdown",
      "metadata": {
        "id": "view-in-github",
        "colab_type": "text"
      },
      "source": [
        "<a href=\"https://colab.research.google.com/github/Antonela89/Cuadernos_BootCamps_DataCience_Alura_Mod1/blob/main/1_Python_para_DS_Introduccion.ipynb\" target=\"_parent\"><img src=\"https://colab.research.google.com/assets/colab-badge.svg\" alt=\"Open In Colab\"/></a>"
      ]
    },
    {
      "cell_type": "markdown",
      "source": [
        "#**Python para DS - Introducción al lenguaje**"
      ],
      "metadata": {
        "id": "wBZnCT3qkTLQ"
      }
    },
    {
      "cell_type": "code",
      "source": [
        "1+1"
      ],
      "metadata": {
        "colab": {
          "base_uri": "https://localhost:8080/"
        },
        "id": "8BuhpCXPlhqN",
        "outputId": "a8bbb894-b8d1-4fee-c792-5fcacea18546"
      },
      "execution_count": null,
      "outputs": [
        {
          "output_type": "execute_result",
          "data": {
            "text/plain": [
              "2"
            ]
          },
          "metadata": {},
          "execution_count": 1
        }
      ]
    },
    {
      "cell_type": "code",
      "source": [
        "'Antonela'"
      ],
      "metadata": {
        "colab": {
          "base_uri": "https://localhost:8080/",
          "height": 35
        },
        "id": "xK-nMMmOlrQZ",
        "outputId": "9e304646-2029-405f-f845-59df66bc0794"
      },
      "execution_count": null,
      "outputs": [
        {
          "output_type": "execute_result",
          "data": {
            "text/plain": [
              "'Antonela'"
            ],
            "application/vnd.google.colaboratory.intrinsic+json": {
              "type": "string"
            }
          },
          "metadata": {},
          "execution_count": 2
        }
      ]
    },
    {
      "cell_type": "code",
      "source": [
        "nombre = 'Antonela'"
      ],
      "metadata": {
        "id": "wOhXDdc1mRh7"
      },
      "execution_count": null,
      "outputs": []
    },
    {
      "cell_type": "code",
      "source": [
        "nombre"
      ],
      "metadata": {
        "colab": {
          "base_uri": "https://localhost:8080/",
          "height": 35
        },
        "id": "_NaPeYLZmUto",
        "outputId": "0bfa1770-ab2f-4d7b-d764-7dd4fb63a225"
      },
      "execution_count": null,
      "outputs": [
        {
          "output_type": "execute_result",
          "data": {
            "text/plain": [
              "'Antonela'"
            ],
            "application/vnd.google.colaboratory.intrinsic+json": {
              "type": "string"
            }
          },
          "metadata": {},
          "execution_count": 4
        }
      ]
    },
    {
      "cell_type": "code",
      "source": [
        "edad = 34"
      ],
      "metadata": {
        "id": "835djIcUmbFU"
      },
      "execution_count": null,
      "outputs": []
    },
    {
      "cell_type": "code",
      "source": [
        "edad"
      ],
      "metadata": {
        "colab": {
          "base_uri": "https://localhost:8080/"
        },
        "id": "ElGCPEWymeJF",
        "outputId": "8dfc9d77-4a6d-48ea-a2c2-82b18d25925b"
      },
      "execution_count": null,
      "outputs": [
        {
          "output_type": "execute_result",
          "data": {
            "text/plain": [
              "34"
            ]
          },
          "metadata": {},
          "execution_count": 6
        }
      ]
    },
    {
      "cell_type": "markdown",
      "source": [
        "#Mi primera función"
      ],
      "metadata": {
        "id": "_Ufj9fyEnaLt"
      }
    },
    {
      "cell_type": "code",
      "source": [
        "print('El nombre es Antonela y su edad es 34 años')"
      ],
      "metadata": {
        "colab": {
          "base_uri": "https://localhost:8080/"
        },
        "id": "ly0vd5kfmfi_",
        "outputId": "8b8f1b54-703f-4378-fefd-ae89514615d8"
      },
      "execution_count": null,
      "outputs": [
        {
          "output_type": "stream",
          "name": "stdout",
          "text": [
            "El nombre es Antonela y su edad es 34 años\n"
          ]
        }
      ]
    },
    {
      "cell_type": "code",
      "source": [
        "print(f'El nombre es {nombre} y su edad es {edad} años')"
      ],
      "metadata": {
        "colab": {
          "base_uri": "https://localhost:8080/"
        },
        "id": "pm0z-zH7oB_6",
        "outputId": "e10d9492-f187-4ff5-9639-de86aee4d81f"
      },
      "execution_count": null,
      "outputs": [
        {
          "output_type": "stream",
          "name": "stdout",
          "text": [
            "El nombre es Antonela y su edad es 34 años\n"
          ]
        }
      ]
    },
    {
      "cell_type": "code",
      "source": [
        "def saludar():\n",
        "  nombre = input('Digite su nombre: ')\n",
        "  print(f'Hola {nombre} sea bienvendid@!!!')"
      ],
      "metadata": {
        "id": "Z8jDNKqDolAC"
      },
      "execution_count": null,
      "outputs": []
    },
    {
      "cell_type": "code",
      "source": [
        "saludar()"
      ],
      "metadata": {
        "colab": {
          "base_uri": "https://localhost:8080/"
        },
        "id": "DaLowxJNpEuv",
        "outputId": "d182c3c1-0fa9-42f0-bda8-a5702afbef0e"
      },
      "execution_count": null,
      "outputs": [
        {
          "output_type": "stream",
          "name": "stdout",
          "text": [
            "Digite su nombre: Antonela\n",
            "Hola Antonela sea bienvendid@!!!\n"
          ]
        }
      ]
    },
    {
      "cell_type": "code",
      "source": [
        "def nombre_completo():\n",
        "   primer_nombre = input('¿Cuál es tu primer nombre? ')\n",
        "   apellido = input('¿Cuál es tu apellido? ')\n",
        "   nombre_completo = primer_nombre + ' ' + apellido\n",
        "   print(nombre_completo)"
      ],
      "metadata": {
        "id": "5sQiRHgypKFv"
      },
      "execution_count": null,
      "outputs": []
    },
    {
      "cell_type": "code",
      "source": [
        "nombre_completo()"
      ],
      "metadata": {
        "colab": {
          "base_uri": "https://localhost:8080/"
        },
        "id": "Iadyq9I7pzo4",
        "outputId": "133f0cbf-7c37-46ce-bc45-06656da4aaea"
      },
      "execution_count": null,
      "outputs": [
        {
          "output_type": "stream",
          "name": "stdout",
          "text": [
            "¿Cuál es tu primer nombre? Antonela\n",
            "¿Cuál es tu apellido? Borgogno\n",
            "Antonela Borgogno\n"
          ]
        }
      ]
    },
    {
      "cell_type": "markdown",
      "source": [
        "#Parámetros"
      ],
      "metadata": {
        "id": "87VPxvgsuYYX"
      }
    },
    {
      "cell_type": "code",
      "source": [
        "nombre = 'Andrea'"
      ],
      "metadata": {
        "id": "Q0n34CUUp2WW"
      },
      "execution_count": null,
      "outputs": []
    },
    {
      "cell_type": "code",
      "source": [
        "def saludar_con_parametros(nombre):\n",
        "  print(f'Hola {nombre} sea bienvenid@!!!')"
      ],
      "metadata": {
        "id": "4lt60QI6tgO4"
      },
      "execution_count": null,
      "outputs": []
    },
    {
      "cell_type": "code",
      "source": [
        "saludar_con_parametros('Andrea')\n"
      ],
      "metadata": {
        "colab": {
          "base_uri": "https://localhost:8080/"
        },
        "id": "Dxg0wtTeuAXy",
        "outputId": "29a384a2-0052-489a-81b4-ed7a9aed2a1f"
      },
      "execution_count": null,
      "outputs": [
        {
          "output_type": "stream",
          "name": "stdout",
          "text": [
            "Hola Andrea sea bienvenid@!!!\n"
          ]
        }
      ]
    },
    {
      "cell_type": "code",
      "source": [
        "saludar_con_parametros(nombre)"
      ],
      "metadata": {
        "colab": {
          "base_uri": "https://localhost:8080/"
        },
        "id": "xc0QzbPUuGw1",
        "outputId": "9ff4266c-34f9-4c47-8ad9-2acc62baa87c"
      },
      "execution_count": null,
      "outputs": [
        {
          "output_type": "stream",
          "name": "stdout",
          "text": [
            "Hola Andrea sea bienvenid@!!!\n"
          ]
        }
      ]
    },
    {
      "cell_type": "code",
      "source": [
        "def velocidad(espacio, tiempo):\n",
        " v = espacio / tiempo\n",
        " print(f'Velocidad: {v} m/s')"
      ],
      "metadata": {
        "id": "ElJwAHykuUPa"
      },
      "execution_count": null,
      "outputs": []
    },
    {
      "cell_type": "code",
      "source": [
        "velocidad(100,20)"
      ],
      "metadata": {
        "colab": {
          "base_uri": "https://localhost:8080/"
        },
        "id": "WdOjJlNBuhs9",
        "outputId": "adca6c19-c161-45f2-be36-734302c8017b"
      },
      "execution_count": null,
      "outputs": [
        {
          "output_type": "stream",
          "name": "stdout",
          "text": [
            "Velocidad: 5.0 m/s\n"
          ]
        }
      ]
    },
    {
      "cell_type": "markdown",
      "source": [
        "#Condicionales"
      ],
      "metadata": {
        "id": "i-hDPe2ovTq5"
      }
    },
    {
      "cell_type": "code",
      "source": [
        "edad = 20\n",
        "\n",
        "def verificar_si_puede_conducir(edad):\n",
        "   if edad >= 18:\n",
        "    print('Usted tiene edad suficiente para conducir')\n",
        "   else:\n",
        "    print('Usted no tiene edad suficiente para conducir')\n",
        "\n",
        "verificar_si_puede_conducir(edad)"
      ],
      "metadata": {
        "colab": {
          "base_uri": "https://localhost:8080/"
        },
        "id": "Kj5xIC0bvYNF",
        "outputId": "d7466252-bec3-45d7-d99a-61ace70b86fa"
      },
      "execution_count": null,
      "outputs": [
        {
          "output_type": "stream",
          "name": "stdout",
          "text": [
            "usted tiene edad suficiente para conducir\n"
          ]
        }
      ]
    },
    {
      "cell_type": "code",
      "source": [
        "def verificar_si_puede_conducir_sin_parametros():\n",
        "  edad = int(input('Digite su edad: '))\n",
        "  if edad >= 18:\n",
        "    print('Usted tiene edad suficiente para conducir')\n",
        "  else:\n",
        "    print('Usted no tiene edad suficiente para conducir')\n",
        "\n",
        "verificar_si_puede_conducir_sin_parametros()"
      ],
      "metadata": {
        "colab": {
          "base_uri": "https://localhost:8080/"
        },
        "id": "TI_puein9PzW",
        "outputId": "14b768fe-5dbf-457f-9b97-663e20d07141"
      },
      "execution_count": null,
      "outputs": [
        {
          "output_type": "stream",
          "name": "stdout",
          "text": [
            "Digite su edad: 20\n",
            "Usted tiene edad suficiente para conducir\n"
          ]
        }
      ]
    },
    {
      "cell_type": "code",
      "source": [
        "def clasificar_nps(nota):\n",
        "  if nota <= 6:\n",
        "    print('El alumno es considerado Detractor')\n",
        "  else:\n",
        "    if nota <= 8:\n",
        "      print('El alumno es considerado Neutro')\n",
        "    else:\n",
        "      print('El alumno es considerado Promotor')\n",
        "\n",
        "clasificar_nps(9)"
      ],
      "metadata": {
        "colab": {
          "base_uri": "https://localhost:8080/"
        },
        "id": "LryWsJPF9EV3",
        "outputId": "070e16be-693a-4afc-a7f0-b9acfddeec12"
      },
      "execution_count": null,
      "outputs": [
        {
          "output_type": "stream",
          "name": "stdout",
          "text": [
            "El alumno es considerado Promotor\n"
          ]
        }
      ]
    },
    {
      "cell_type": "code",
      "source": [
        "def permiso_de_conducir():\n",
        " edad = int(input('¿Cuál es tu edad?'))\n",
        " if edad >= 18:\n",
        "   print('Ya tienes edad suficiente para obtener permiso de conducir')\n",
        " else:\n",
        "   tiempo = 18 - edad\n",
        "   print(f'Tranquilo, faltan {tiempo} año(s) para obtener permiso de conducir')\n",
        "\n",
        "permiso_de_conducir()"
      ],
      "metadata": {
        "colab": {
          "base_uri": "https://localhost:8080/"
        },
        "id": "BxxZhXqm-E2R",
        "outputId": "92bd706c-e8ec-471d-f734-117c6a4ab278"
      },
      "execution_count": null,
      "outputs": [
        {
          "output_type": "stream",
          "name": "stdout",
          "text": [
            "¿Cuál es tu edad?20\n",
            "Ya tienes edad suficiente para obtener permiso de conducir\n"
          ]
        }
      ]
    },
    {
      "cell_type": "markdown",
      "source": [
        "#Función type"
      ],
      "metadata": {
        "id": "sGYa9RMxAzkV"
      }
    },
    {
      "cell_type": "code",
      "source": [
        "nombre = 'Antonela'\n",
        "type(nombre)"
      ],
      "metadata": {
        "colab": {
          "base_uri": "https://localhost:8080/"
        },
        "id": "02GklAwJAGfs",
        "outputId": "5805c228-1807-4d76-fd91-469e4c54d77b"
      },
      "execution_count": null,
      "outputs": [
        {
          "output_type": "execute_result",
          "data": {
            "text/plain": [
              "str"
            ]
          },
          "metadata": {},
          "execution_count": 12
        }
      ]
    },
    {
      "cell_type": "code",
      "source": [
        "edad = 34\n",
        "type(edad)"
      ],
      "metadata": {
        "colab": {
          "base_uri": "https://localhost:8080/"
        },
        "id": "Fe16IMMGAJl9",
        "outputId": "6d89c3a6-ab41-485d-ee74-1b3aa111bcba"
      },
      "execution_count": null,
      "outputs": [
        {
          "output_type": "execute_result",
          "data": {
            "text/plain": [
              "int"
            ]
          },
          "metadata": {},
          "execution_count": 13
        }
      ]
    },
    {
      "cell_type": "markdown",
      "source": [
        "#Listas"
      ],
      "metadata": {
        "id": "E-vzvuVMAnzR"
      }
    },
    {
      "cell_type": "code",
      "source": [
        "edades = [50,45,18,15,12]"
      ],
      "metadata": {
        "id": "cX-O5fQwxbhg"
      },
      "execution_count": null,
      "outputs": []
    },
    {
      "cell_type": "code",
      "source": [
        "edades"
      ],
      "metadata": {
        "colab": {
          "base_uri": "https://localhost:8080/"
        },
        "id": "Opfjwz62_mj7",
        "outputId": "b29333f9-2f25-445a-bff3-47402495ae9b"
      },
      "execution_count": null,
      "outputs": [
        {
          "output_type": "execute_result",
          "data": {
            "text/plain": [
              "[50, 45, 18, 15, 12]"
            ]
          },
          "metadata": {},
          "execution_count": 9
        }
      ]
    },
    {
      "cell_type": "code",
      "source": [
        "type(edades)"
      ],
      "metadata": {
        "colab": {
          "base_uri": "https://localhost:8080/"
        },
        "id": "n1dAEgI5_n5w",
        "outputId": "f73b106d-44e8-4907-b9bc-93c50efef09e"
      },
      "execution_count": null,
      "outputs": [
        {
          "output_type": "execute_result",
          "data": {
            "text/plain": [
              "list"
            ]
          },
          "metadata": {},
          "execution_count": 10
        }
      ]
    },
    {
      "cell_type": "code",
      "source": [
        "edades[0] #estoy pidiendo posición 0 de la lista"
      ],
      "metadata": {
        "colab": {
          "base_uri": "https://localhost:8080/"
        },
        "id": "v5PiI0mbAtYy",
        "outputId": "43a87dd8-aca7-4e32-fa09-8128b6da4a7b"
      },
      "execution_count": null,
      "outputs": [
        {
          "output_type": "execute_result",
          "data": {
            "text/plain": [
              "50"
            ]
          },
          "metadata": {},
          "execution_count": 14
        }
      ]
    },
    {
      "cell_type": "code",
      "source": [
        "edades[3]"
      ],
      "metadata": {
        "colab": {
          "base_uri": "https://localhost:8080/"
        },
        "id": "yVQpWpQqBsSx",
        "outputId": "3e68d346-7b04-452b-c85d-e74bb6270432"
      },
      "execution_count": null,
      "outputs": [
        {
          "output_type": "execute_result",
          "data": {
            "text/plain": [
              "15"
            ]
          },
          "metadata": {},
          "execution_count": 15
        }
      ]
    },
    {
      "cell_type": "code",
      "source": [
        "edades = [50,45,18,15,12]\n",
        "parte = edades[0:3] #devuelve una parte de la lista, de la posicion 0 a la 2 (no incluye la posicion 3)\n",
        "print(parte);\n"
      ],
      "metadata": {
        "colab": {
          "base_uri": "https://localhost:8080/"
        },
        "id": "5MyOPJ4PB3vz",
        "outputId": "46bbbe26-4034-49bf-9a6d-d410d5c537b9"
      },
      "execution_count": null,
      "outputs": [
        {
          "output_type": "stream",
          "name": "stdout",
          "text": [
            "[50, 45, 18]\n"
          ]
        }
      ]
    },
    {
      "cell_type": "code",
      "source": [
        "edades = [50,45,18,15,12]\n",
        "parte = edades[0:] #devuelve toda la lista\n",
        "print(parte);"
      ],
      "metadata": {
        "colab": {
          "base_uri": "https://localhost:8080/"
        },
        "id": "RYcvNVEWCM25",
        "outputId": "d166a7e8-777e-4e6c-a5fd-1b752754a5af"
      },
      "execution_count": null,
      "outputs": [
        {
          "output_type": "stream",
          "name": "stdout",
          "text": [
            "[50, 45, 18, 15, 12]\n"
          ]
        }
      ]
    },
    {
      "cell_type": "code",
      "source": [
        "edades[-1] #el indice negativo da vuelta la lista, arranca al reves.\n"
      ],
      "metadata": {
        "colab": {
          "base_uri": "https://localhost:8080/"
        },
        "id": "PSotSkfvHPdA",
        "outputId": "ecf2482d-bfbb-4915-8e75-82ab6a43413f"
      },
      "execution_count": null,
      "outputs": [
        {
          "output_type": "execute_result",
          "data": {
            "text/plain": [
              "12"
            ]
          },
          "metadata": {},
          "execution_count": 31
        }
      ]
    },
    {
      "cell_type": "code",
      "source": [
        "frase_alura = [' Digitales', 'y ', 'Negocios ', 'de ', 'Tecnología ', 'Cursos ']"
      ],
      "metadata": {
        "id": "8TLC-ZZlHqmD"
      },
      "execution_count": null,
      "outputs": []
    },
    {
      "cell_type": "code",
      "source": [
        "frase_alura[-1] + frase_alura[4] + frase_alura[5] + frase_alura[2] + frase_alura[3] + frase_alura[1]"
      ],
      "metadata": {
        "colab": {
          "base_uri": "https://localhost:8080/",
          "height": 35
        },
        "id": "HyW3L1F4Pv8N",
        "outputId": "ece21621-8a01-48ae-f801-9fcd99a6ce7a"
      },
      "execution_count": null,
      "outputs": [
        {
          "output_type": "execute_result",
          "data": {
            "text/plain": [
              "'Cursos Tecnología Cursos Negocios de y '"
            ],
            "application/vnd.google.colaboratory.intrinsic+json": {
              "type": "string"
            }
          },
          "metadata": {},
          "execution_count": 33
        }
      ]
    },
    {
      "cell_type": "code",
      "source": [
        "frase_alura[-1] + frase_alura[3] + frase_alura[-2] + frase_alura[1] + frase_alura[2] + frase_alura[0]"
      ],
      "metadata": {
        "colab": {
          "base_uri": "https://localhost:8080/",
          "height": 35
        },
        "id": "9q_lV54gP1C1",
        "outputId": "e13c2949-3993-4e1d-9684-33a2d1543178"
      },
      "execution_count": null,
      "outputs": [
        {
          "output_type": "execute_result",
          "data": {
            "text/plain": [
              "'Cursos de Tecnología y Negocios  Digitales'"
            ],
            "application/vnd.google.colaboratory.intrinsic+json": {
              "type": "string"
            }
          },
          "metadata": {},
          "execution_count": 34
        }
      ]
    },
    {
      "cell_type": "code",
      "source": [
        "frase_alura[-1] + frase_alura[-3] + frase_alura[-2] + frase_alura[-5] + frase_alura[-6] + frase_alura[-4]"
      ],
      "metadata": {
        "colab": {
          "base_uri": "https://localhost:8080/",
          "height": 35
        },
        "id": "fnuLrAqJQD2k",
        "outputId": "bb04a479-0ded-48c7-f846-f8b9fe8d7fdf"
      },
      "execution_count": null,
      "outputs": [
        {
          "output_type": "execute_result",
          "data": {
            "text/plain": [
              "'Cursos de Tecnología y  DigitalesNegocios '"
            ],
            "application/vnd.google.colaboratory.intrinsic+json": {
              "type": "string"
            }
          },
          "metadata": {},
          "execution_count": 35
        }
      ]
    },
    {
      "cell_type": "code",
      "source": [
        "frase_alura[5] + frase_alura[3] + frase_alura[4] + frase_alura[1] + frase_alura[2] + frase_alura[1]"
      ],
      "metadata": {
        "colab": {
          "base_uri": "https://localhost:8080/",
          "height": 35
        },
        "id": "SwJ-brnmQI0c",
        "outputId": "8ab90692-2446-4516-d8ca-52cfff0c1c5e"
      },
      "execution_count": null,
      "outputs": [
        {
          "output_type": "execute_result",
          "data": {
            "text/plain": [
              "'Cursos de Tecnología y Negocios y '"
            ],
            "application/vnd.google.colaboratory.intrinsic+json": {
              "type": "string"
            }
          },
          "metadata": {},
          "execution_count": 36
        }
      ]
    },
    {
      "cell_type": "code",
      "source": [],
      "metadata": {
        "id": "nj7Mb9pfQNg7"
      },
      "execution_count": null,
      "outputs": []
    },
    {
      "cell_type": "markdown",
      "source": [
        "#Loops - Bucles y ciclos"
      ],
      "metadata": {
        "id": "r0D_sSZjQfCz"
      }
    },
    {
      "cell_type": "code",
      "source": [
        "#Bucle fuera de la función\n",
        "edades = [12,15,18,45,50]\n",
        "\n",
        "def verificar_si_puede_conducir(edad):\n",
        "   if edad >= 18:\n",
        "    print('Usted tiene edad suficiente para conducir')\n",
        "   else:\n",
        "    print('Usted no tiene edad suficiente para conducir')\n",
        "\n",
        "for edad in edades: #ciclo for - para cada edad de la lista ejecuta la función verificar_si_puede_conducir\n",
        "  verificar_si_puede_conducir(edad)"
      ],
      "metadata": {
        "colab": {
          "base_uri": "https://localhost:8080/"
        },
        "id": "Ig6TWMTqQjaq",
        "outputId": "9f5d662c-f243-447d-ffc2-75df5a5c078e"
      },
      "execution_count": null,
      "outputs": [
        {
          "output_type": "stream",
          "name": "stdout",
          "text": [
            "Usted no tiene edad suficiente para conducir\n",
            "Usted no tiene edad suficiente para conducir\n",
            "Usted tiene edad suficiente para conducir\n",
            "Usted tiene edad suficiente para conducir\n",
            "Usted tiene edad suficiente para conducir\n"
          ]
        }
      ]
    },
    {
      "cell_type": "code",
      "source": [
        "#Bucle dentro de la función\n",
        "edades = [12,15,18,45,50]\n",
        "\n",
        "def verificar_si_puede_conducir_con_bucle(edades):\n",
        "  for edad in edades:\n",
        "    if edad >= 18:\n",
        "      print('Usted tiene edad suficiente para conducir')\n",
        "    else:\n",
        "      print('Usted no tiene edad suficiente para conducir')\n",
        "\n",
        "verificar_si_puede_conducir_con_bucle(edades)"
      ],
      "metadata": {
        "colab": {
          "base_uri": "https://localhost:8080/"
        },
        "id": "Ri4L0aNxSwDm",
        "outputId": "2032fd63-d780-4b0e-e98a-023ce0dd47f0"
      },
      "execution_count": null,
      "outputs": [
        {
          "output_type": "stream",
          "name": "stdout",
          "text": [
            "Usted no tiene edad suficiente para conducir\n",
            "Usted no tiene edad suficiente para conducir\n",
            "Usted tiene edad suficiente para conducir\n",
            "Usted tiene edad suficiente para conducir\n",
            "Usted tiene edad suficiente para conducir\n"
          ]
        }
      ]
    },
    {
      "cell_type": "code",
      "source": [
        "def clasificar_nps(notas):\n",
        "  for nota in notas:\n",
        "    if nota <= 6:\n",
        "      print('El alumno es considerado Detractor')\n",
        "    else:\n",
        "      if nota <= 8:\n",
        "        print('El alumno es considerado Neutro')\n",
        "      else:\n",
        "        print('El alumno es considerado Promotor')\n",
        "\n",
        "clasificar_nps([9,8,10,6,7])"
      ],
      "metadata": {
        "colab": {
          "base_uri": "https://localhost:8080/"
        },
        "id": "msqtSm5LUAfP",
        "outputId": "4f2579a6-7fb0-4b83-a1e8-4be54a4df368"
      },
      "execution_count": null,
      "outputs": [
        {
          "output_type": "stream",
          "name": "stdout",
          "text": [
            "El alumno es considerado Promotor\n",
            "El alumno es considerado Neutro\n",
            "El alumno es considerado Promotor\n",
            "El alumno es considerado Detractor\n",
            "El alumno es considerado Neutro\n"
          ]
        }
      ]
    },
    {
      "cell_type": "markdown",
      "source": [
        "#Booleano"
      ],
      "metadata": {
        "id": "RqlGGYqNVO8m"
      }
    },
    {
      "cell_type": "code",
      "source": [
        "edad = 18"
      ],
      "metadata": {
        "id": "dWE3ADrbVRZv"
      },
      "execution_count": null,
      "outputs": []
    },
    {
      "cell_type": "code",
      "source": [
        "edad < 18"
      ],
      "metadata": {
        "colab": {
          "base_uri": "https://localhost:8080/"
        },
        "id": "lsQWgnFVVVSP",
        "outputId": "84fe8bfe-5de2-4a9d-b29c-f686aa94f687"
      },
      "execution_count": null,
      "outputs": [
        {
          "output_type": "execute_result",
          "data": {
            "text/plain": [
              "False"
            ]
          },
          "metadata": {},
          "execution_count": 43
        }
      ]
    },
    {
      "cell_type": "code",
      "source": [
        "edad > 18"
      ],
      "metadata": {
        "colab": {
          "base_uri": "https://localhost:8080/"
        },
        "id": "BjZ_5XtzVXMo",
        "outputId": "9ad41353-934b-472d-f52e-e9767de489b1"
      },
      "execution_count": null,
      "outputs": [
        {
          "output_type": "execute_result",
          "data": {
            "text/plain": [
              "False"
            ]
          },
          "metadata": {},
          "execution_count": 44
        }
      ]
    },
    {
      "cell_type": "code",
      "source": [
        "edad == 18"
      ],
      "metadata": {
        "colab": {
          "base_uri": "https://localhost:8080/"
        },
        "id": "EUju9AkgVZ3z",
        "outputId": "46f676e1-b437-4b2a-bb34-ec896dba7d6f"
      },
      "execution_count": null,
      "outputs": [
        {
          "output_type": "execute_result",
          "data": {
            "text/plain": [
              "True"
            ]
          },
          "metadata": {},
          "execution_count": 45
        }
      ]
    },
    {
      "cell_type": "code",
      "source": [
        "verificaciones = []\n",
        "edades = [13,15,20]\n",
        "\n",
        "def verificar_si_puede_conducir_bool(verificaciones,edades):\n",
        "  for edad in edades:\n",
        "    if edad >= 18:\n",
        "      verificaciones.append(True)\n",
        "    else:\n",
        "      verificaciones.append(False)\n",
        "  for verificacion in verificaciones:\n",
        "    if verificacion == True:\n",
        "      print('Usted tiene edad suficiente para conducir')\n",
        "    else:\n",
        "      print('Usted NO tiene edad suficiente para conducir')\n",
        "\n",
        "verificar_si_puede_conducir_bool(verificaciones,edades)"
      ],
      "metadata": {
        "colab": {
          "base_uri": "https://localhost:8080/"
        },
        "id": "1uBEkhEAVbrm",
        "outputId": "5122099b-2a2d-4383-9e4b-2ea2cf556dd8"
      },
      "execution_count": null,
      "outputs": [
        {
          "output_type": "stream",
          "name": "stdout",
          "text": [
            "Usted NO tiene edad suficiente para conducir\n",
            "Usted NO tiene edad suficiente para conducir\n",
            "Usted tiene edad suficiente para conducir\n"
          ]
        }
      ]
    },
    {
      "cell_type": "code",
      "source": [
        "a=2\n",
        "\n",
        "if a < 2:\n",
        " a = a + 1\n",
        "else:\n",
        " a = a + 2\n",
        "if a < 4:\n",
        " a = a - 4\n",
        "else:\n",
        " a = a + 6\n",
        "\n",
        "a"
      ],
      "metadata": {
        "colab": {
          "base_uri": "https://localhost:8080/"
        },
        "id": "ht2KjgOrWfCT",
        "outputId": "0563c8c4-b208-4019-8340-6af7a324f32a"
      },
      "execution_count": null,
      "outputs": [
        {
          "output_type": "execute_result",
          "data": {
            "text/plain": [
              "10"
            ]
          },
          "metadata": {},
          "execution_count": 50
        }
      ]
    },
    {
      "cell_type": "markdown",
      "source": [
        "#Lista con diferentes tipos de datos"
      ],
      "metadata": {
        "id": "D1ds3FiHYaku"
      }
    },
    {
      "cell_type": "code",
      "source": [
        "persona = ['Mariana', 25, True, 'México']"
      ],
      "metadata": {
        "id": "y__FmbSoX8YO"
      },
      "execution_count": null,
      "outputs": []
    },
    {
      "cell_type": "code",
      "source": [
        "persona"
      ],
      "metadata": {
        "colab": {
          "base_uri": "https://localhost:8080/"
        },
        "id": "PJGNaQE-Yviz",
        "outputId": "bb837ba2-efb9-4e16-cbe5-8ff5703ff1b2"
      },
      "execution_count": null,
      "outputs": [
        {
          "output_type": "execute_result",
          "data": {
            "text/plain": [
              "['Mariana', 25, True, 'México']"
            ]
          },
          "metadata": {},
          "execution_count": 56
        }
      ]
    },
    {
      "cell_type": "code",
      "source": [
        "for elemento in persona:\n",
        "  print(f'El elemento {elemento} de la lista es del tipo ', type(elemento))\n"
      ],
      "metadata": {
        "colab": {
          "base_uri": "https://localhost:8080/"
        },
        "id": "w6JPEDSmYzUa",
        "outputId": "d76419da-f6fe-42e4-87a2-3cdf2a485405"
      },
      "execution_count": null,
      "outputs": [
        {
          "output_type": "stream",
          "name": "stdout",
          "text": [
            "El elemento Mariana de la lista es del tipo  <class 'str'>\n",
            "El elemento 25 de la lista es del tipo  <class 'int'>\n",
            "El elemento True de la lista es del tipo  <class 'bool'>\n",
            "El elemento México de la lista es del tipo  <class 'str'>\n"
          ]
        }
      ]
    },
    {
      "cell_type": "markdown",
      "source": [
        "#Importando una biblioteca"
      ],
      "metadata": {
        "id": "K_zdG_BSbNip"
      }
    },
    {
      "cell_type": "code",
      "source": [
        "\n",
        "from random import randrange, seed"
      ],
      "metadata": {
        "id": "zGBdUfBTZMhs"
      },
      "execution_count": null,
      "outputs": []
    },
    {
      "cell_type": "code",
      "source": [
        "randrange(0,11) #el 11 es exclusivo, toma el numero anterior: el 10"
      ],
      "metadata": {
        "colab": {
          "base_uri": "https://localhost:8080/"
        },
        "id": "puSrdP_lbgm_",
        "outputId": "14d2d260-35e3-486e-b40c-88d0c237b687"
      },
      "execution_count": null,
      "outputs": [
        {
          "output_type": "execute_result",
          "data": {
            "text/plain": [
              "5"
            ]
          },
          "metadata": {},
          "execution_count": 60
        }
      ]
    },
    {
      "cell_type": "code",
      "source": [
        "notas_matematicas = []"
      ],
      "metadata": {
        "id": "NDpMrSLnbtGl"
      },
      "execution_count": null,
      "outputs": []
    },
    {
      "cell_type": "code",
      "source": [
        "notas_matematicas.append(randrange(0,11))"
      ],
      "metadata": {
        "id": "AbtOavYacq8-"
      },
      "execution_count": null,
      "outputs": []
    },
    {
      "cell_type": "code",
      "source": [
        "notas_matematicas"
      ],
      "metadata": {
        "colab": {
          "base_uri": "https://localhost:8080/"
        },
        "id": "qjwGT8sWczZu",
        "outputId": "e9c024d6-6a97-4364-8552-c3476e180400"
      },
      "execution_count": null,
      "outputs": [
        {
          "output_type": "execute_result",
          "data": {
            "text/plain": [
              "[0, 6, 10]"
            ]
          },
          "metadata": {},
          "execution_count": 67
        }
      ]
    },
    {
      "cell_type": "code",
      "source": [
        "notas_matematicas = []\n",
        "seed(8) # semilla... en base a este numero se generan los numeros pseudo aleatorios - permite control sobre estos numeros\n",
        "for notas in range(6): #range estable la cantidad de veces q se repite el ciclo for\n",
        "  notas_matematicas.append(randrange(0,11))"
      ],
      "metadata": {
        "id": "A1RfFzfAc3_k"
      },
      "execution_count": null,
      "outputs": []
    },
    {
      "cell_type": "code",
      "source": [
        "notas_matematicas"
      ],
      "metadata": {
        "colab": {
          "base_uri": "https://localhost:8080/"
        },
        "id": "aEW150ycdNcW",
        "outputId": "078f0e36-a45d-4a12-d56d-a85ea70b8858"
      },
      "execution_count": null,
      "outputs": [
        {
          "output_type": "execute_result",
          "data": {
            "text/plain": [
              "[3, 5, 6, 2, 3, 0]"
            ]
          },
          "metadata": {},
          "execution_count": 80
        }
      ]
    },
    {
      "cell_type": "code",
      "source": [
        "len(notas_matematicas) #especifica la cantidad de elementos de la lista"
      ],
      "metadata": {
        "colab": {
          "base_uri": "https://localhost:8080/"
        },
        "id": "_4Alj4HadQM-",
        "outputId": "b42d6811-aad6-4d5e-b9ce-ad4505371d61"
      },
      "execution_count": null,
      "outputs": [
        {
          "output_type": "execute_result",
          "data": {
            "text/plain": [
              "6"
            ]
          },
          "metadata": {},
          "execution_count": 73
        }
      ]
    },
    {
      "cell_type": "markdown",
      "source": [
        "#Biblioteca Matplotlib para gráficos"
      ],
      "metadata": {
        "id": "YhtJhi1hioxT"
      }
    },
    {
      "cell_type": "code",
      "source": [
        "import matplotlib.pyplot as plt"
      ],
      "metadata": {
        "id": "JsNnkNLXdca9"
      },
      "execution_count": null,
      "outputs": []
    },
    {
      "cell_type": "code",
      "source": [
        "x = list(range(1,7))\n",
        "y = notas_matematicas"
      ],
      "metadata": {
        "id": "e9u4u-qrjDMF"
      },
      "execution_count": null,
      "outputs": []
    },
    {
      "cell_type": "code",
      "source": [
        "x"
      ],
      "metadata": {
        "colab": {
          "base_uri": "https://localhost:8080/"
        },
        "id": "CwvjRXZ6jipJ",
        "outputId": "a6ddfcdb-d30f-423c-fb78-3772d2a2bf7c"
      },
      "execution_count": null,
      "outputs": [
        {
          "output_type": "execute_result",
          "data": {
            "text/plain": [
              "[1, 2, 3, 4, 5, 6]"
            ]
          },
          "metadata": {},
          "execution_count": 84
        }
      ]
    },
    {
      "cell_type": "code",
      "source": [
        "y"
      ],
      "metadata": {
        "colab": {
          "base_uri": "https://localhost:8080/"
        },
        "id": "S1BtkG7YjlmL",
        "outputId": "89933b08-e385-421c-9350-85f44dafaf2c"
      },
      "execution_count": null,
      "outputs": [
        {
          "output_type": "execute_result",
          "data": {
            "text/plain": [
              "[3, 5, 6, 2, 3, 0]"
            ]
          },
          "metadata": {},
          "execution_count": 85
        }
      ]
    },
    {
      "cell_type": "code",
      "source": [
        "plt.plot(x,y,marker = 'o')\n",
        "plt.title('Gráfico de las notas de Matemática')\n",
        "plt.xlabel('Pruebas')\n",
        "plt.ylabel('Notas')\n",
        "plt.show()"
      ],
      "metadata": {
        "colab": {
          "base_uri": "https://localhost:8080/",
          "height": 472
        },
        "id": "WVkP43skjmim",
        "outputId": "0ecfc11e-8d92-4292-e4e2-7e0a0fae6e0c"
      },
      "execution_count": null,
      "outputs": [
        {
          "output_type": "display_data",
          "data": {
            "text/plain": [
              "<Figure size 640x480 with 1 Axes>"
            ],
            "image/png": "[encoded data removed]"
          },
          "metadata": {}
        }
      ]
    },
    {
      "cell_type": "code",
      "source": [
        "import matplotlib.pyplot as plt\n",
        "\n",
        "notas_matematica = ['Matemática',8,7,6,6,7,7,8,10]\n",
        "notas_lenguaje = ['Lenguaje',9,9,9,8,5,6,8,5]\n",
        "notas_geografia = ['Geografía',10,10,6,7,7,7,8,7]\n",
        "\n",
        "notas = [notas_matematica, notas_lenguaje, notas_geografia]"
      ],
      "metadata": {
        "id": "x_OxHi1zjxeG"
      },
      "execution_count": null,
      "outputs": []
    },
    {
      "cell_type": "code",
      "source": [
        "for nota in notas:\n",
        " x = list(range(1, 9))\n",
        " y = nota[1:]\n",
        " plt.plot(x, y, marker='o')\n",
        " plt.xlabel('Exámenes')\n",
        " plt.ylabel('Notas')\n",
        " plt.title(nota[0])\n",
        " plt.show()"
      ],
      "metadata": {
        "colab": {
          "base_uri": "https://localhost:8080/",
          "height": 1000
        },
        "id": "tqSD7qrJmbAQ",
        "outputId": "989372ed-8ea0-4eb7-f9c7-bb62b879eaf8"
      },
      "execution_count": null,
      "outputs": [
        {
          "output_type": "display_data",
          "data": {
            "text/plain": [
              "<Figure size 640x480 with 1 Axes>"
            ],
            "image/png": "[encoded data removed]"
          },
          "metadata": {}
        },
        {
          "output_type": "display_data",
          "data": {
            "text/plain": [
              "<Figure size 640x480 with 1 Axes>"
            ],
            "image/png": "[encoded data removed]"
          },
          "metadata": {}
        },
        {
          "output_type": "display_data",
          "data": {
            "text/plain": [
              "<Figure size 640x480 with 1 Axes>"
            ],
            "image/png": "[encoded data removed]"
          },
          "metadata": {}
        }
      ]
    }
  ]
}